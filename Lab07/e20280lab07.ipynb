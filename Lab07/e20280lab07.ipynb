{
  "cells": [
    {
      "cell_type": "markdown",
      "metadata": {
        "id": "q3lVzIeXuVnF"
      },
      "source": [
        "### CO543 Image Processing\n",
        "\n",
        "#### E/20/280"
      ]
    },
    {
      "cell_type": "markdown",
      "metadata": {
        "id": "-blN97pPoQQS"
      },
      "source": [
        "## Lab 07\n",
        "# Convolutional Neural Networks"
      ]
    },
    {
      "cell_type": "markdown",
      "metadata": {
        "id": "LePI9eFZoYKC"
      },
      "source": [
        "*   **Fine-tuning** uses the pre-trained model as a base and retrains it on a new dataset with a very\n",
        "small learning rate to adapt it to a new task. This process involves adjusting the weights of the\n",
        "pre-trained model slightly to suit the new data.\n",
        "*  **Feature extraction**, on the other hand, treats the pre-trained model as a fixed feature extractor. In\n",
        "this approach, the model's learned features are used as they are, and only the final classification\n",
        "layer is replaced and trained on the new dataset.\n"
      ]
    },
    {
      "cell_type": "markdown",
      "metadata": {
        "id": "pW1hglicsVYk"
      },
      "source": [
        "## Why Use Transfer Learning?\n",
        "- Reduced Training Time: Transfer learning utilizes pre-trained models, significantly cutting down\n",
        "the time required to train a model for a new task, as opposed to training from scratch.\n",
        "- Improved Performance with Limited Data: Deep learning models typically require large datasets\n",
        "for effective training. Transfer learning leverages knowledge from a pre-trained model on a large\n",
        "dataset, improving performance even with limited task-specific data.\n",
        "- Reduced Computational Resources: Utilizing a pre-trained model reduces the computational\n",
        "resources needed for training, which is beneficial when hardware resources are limited.\n",
        "- Faster Experimentation: Starting with a pre-trained model allows for rapid experimentation with\n",
        "different model architectures and fine-tuning for specific needs, accelerating the development\n",
        "process."
      ]
    },
    {
      "cell_type": "markdown",
      "metadata": {},
      "source": [
        "# **Task 1 Transfer learnning**"
      ]
    },
    {
      "cell_type": "markdown",
      "metadata": {
        "id": "StlYmw4Zua0l"
      },
      "source": [
        "# Step 1: Install the necessary libraries"
      ]
    },
    {
      "cell_type": "code",
      "execution_count": null,
      "metadata": {
        "colab": {
          "base_uri": "https://localhost:8080/"
        },
        "id": "F69DLGBYrFaQ",
        "outputId": "d7b79008-b1f5-4229-b5ee-d41dcb715279"
      },
      "outputs": [
        {
          "name": "stdout",
          "output_type": "stream",
          "text": [
            "Requirement already satisfied: torch in /usr/local/lib/python3.11/dist-packages (2.5.1+cu124)\n",
            "Requirement already satisfied: torchvision in /usr/local/lib/python3.11/dist-packages (0.20.1+cu124)\n",
            "Requirement already satisfied: filelock in /usr/local/lib/python3.11/dist-packages (from torch) (3.17.0)\n",
            "Requirement already satisfied: typing-extensions>=4.8.0 in /usr/local/lib/python3.11/dist-packages (from torch) (4.12.2)\n",
            "Requirement already satisfied: networkx in /usr/local/lib/python3.11/dist-packages (from torch) (3.4.2)\n",
            "Requirement already satisfied: jinja2 in /usr/local/lib/python3.11/dist-packages (from torch) (3.1.5)\n",
            "Requirement already satisfied: fsspec in /usr/local/lib/python3.11/dist-packages (from torch) (2024.10.0)\n",
            "Requirement already satisfied: nvidia-cuda-nvrtc-cu12==12.4.127 in /usr/local/lib/python3.11/dist-packages (from torch) (12.4.127)\n",
            "Requirement already satisfied: nvidia-cuda-runtime-cu12==12.4.127 in /usr/local/lib/python3.11/dist-packages (from torch) (12.4.127)\n",
            "Requirement already satisfied: nvidia-cuda-cupti-cu12==12.4.127 in /usr/local/lib/python3.11/dist-packages (from torch) (12.4.127)\n",
            "Requirement already satisfied: nvidia-cudnn-cu12==9.1.0.70 in /usr/local/lib/python3.11/dist-packages (from torch) (9.1.0.70)\n",
            "Requirement already satisfied: nvidia-cublas-cu12==12.4.5.8 in /usr/local/lib/python3.11/dist-packages (from torch) (12.4.5.8)\n",
            "Requirement already satisfied: nvidia-cufft-cu12==11.2.1.3 in /usr/local/lib/python3.11/dist-packages (from torch) (11.2.1.3)\n",
            "Requirement already satisfied: nvidia-curand-cu12==10.3.5.147 in /usr/local/lib/python3.11/dist-packages (from torch) (10.3.5.147)\n",
            "Requirement already satisfied: nvidia-cusolver-cu12==11.6.1.9 in /usr/local/lib/python3.11/dist-packages (from torch) (11.6.1.9)\n",
            "Requirement already satisfied: nvidia-cusparse-cu12==12.3.1.170 in /usr/local/lib/python3.11/dist-packages (from torch) (12.3.1.170)\n",
            "Requirement already satisfied: nvidia-nccl-cu12==2.21.5 in /usr/local/lib/python3.11/dist-packages (from torch) (2.21.5)\n",
            "Requirement already satisfied: nvidia-nvtx-cu12==12.4.127 in /usr/local/lib/python3.11/dist-packages (from torch) (12.4.127)\n",
            "Requirement already satisfied: nvidia-nvjitlink-cu12==12.4.127 in /usr/local/lib/python3.11/dist-packages (from torch) (12.4.127)\n",
            "Requirement already satisfied: triton==3.1.0 in /usr/local/lib/python3.11/dist-packages (from torch) (3.1.0)\n",
            "Requirement already satisfied: sympy==1.13.1 in /usr/local/lib/python3.11/dist-packages (from torch) (1.13.1)\n",
            "Requirement already satisfied: mpmath<1.4,>=1.1.0 in /usr/local/lib/python3.11/dist-packages (from sympy==1.13.1->torch) (1.3.0)\n",
            "Requirement already satisfied: numpy in /usr/local/lib/python3.11/dist-packages (from torchvision) (1.26.4)\n",
            "Requirement already satisfied: pillow!=8.3.*,>=5.3.0 in /usr/local/lib/python3.11/dist-packages (from torchvision) (11.1.0)\n",
            "Requirement already satisfied: MarkupSafe>=2.0 in /usr/local/lib/python3.11/dist-packages (from jinja2->torch) (3.0.2)\n"
          ]
        }
      ],
      "source": [
        "pip install torch torchvision"
      ]
    },
    {
      "cell_type": "markdown",
      "metadata": {
        "id": "Yb--OVeHugN5"
      },
      "source": [
        "# Step 2: Import required libraries and their functions"
      ]
    },
    {
      "cell_type": "code",
      "execution_count": 3,
      "metadata": {
        "id": "PjPVMPufuQpk"
      },
      "outputs": [],
      "source": [
        "import torch\n",
        "import torch.nn as nn\n",
        "import torch.optim as optim\n",
        "import torchvision\n",
        "import torchvision.transforms as transforms\n",
        "from torchvision import models\n",
        "from torch.utils.data import DataLoader\n",
        "import matplotlib.pyplot as plt\n",
        "# from torchsummary import summary"
      ]
    },
    {
      "cell_type": "markdown",
      "metadata": {
        "id": "Qklhru6cpQ6x"
      },
      "source": [
        "importing pre-processed mnist"
      ]
    },
    {
      "cell_type": "markdown",
      "metadata": {
        "id": "Pzgk52yaujiG"
      },
      "source": [
        "# Step 3: Load and Preprocess the MNIST Dataset"
      ]
    },
    {
      "cell_type": "code",
      "execution_count": 4,
      "metadata": {
        "id": "gvn9hUL8pUBX"
      },
      "outputs": [],
      "source": [
        "transform = transforms.Compose([\n",
        "  transforms.Resize((224, 224)),\n",
        "  transforms.Grayscale(num_output_channels=3),  # Convert grayscale to 3-channel\n",
        "  transforms.ToTensor(),\n",
        "  transforms.Normalize(mean=[0.5, 0.5, 0.5], std=[0.5, 0.5, 0.5])\n",
        "])"
      ]
    },
    {
      "cell_type": "markdown",
      "metadata": {},
      "source": [
        "Why these transformations?\n",
        "- **Resizing to 224x224**: VGG16, ResNet18, and AlexNet expect **224x224 RGB** images.\n",
        "- **Grayscale to 3-channel RGB**: MNIST images are grayscale (1-channel), but pre-trained models expect 3 channels.\n",
        "- **ToTensor()**: Converts images into PyTorch tensors.\n",
        "- **Normalization**: Helps in stable training by bringing pixel values to a standard range.\n"
      ]
    },
    {
      "cell_type": "code",
      "execution_count": 5,
      "metadata": {},
      "outputs": [
        {
          "name": "stdout",
          "output_type": "stream",
          "text": [
            "Downloading http://yann.lecun.com/exdb/mnist/train-images-idx3-ubyte.gz\n",
            "Failed to download (trying next):\n",
            "HTTP Error 404: Not Found\n",
            "\n",
            "Downloading https://ossci-datasets.s3.amazonaws.com/mnist/train-images-idx3-ubyte.gz\n",
            "Downloading https://ossci-datasets.s3.amazonaws.com/mnist/train-images-idx3-ubyte.gz to ./data/MNIST/raw/train-images-idx3-ubyte.gz\n"
          ]
        },
        {
          "name": "stderr",
          "output_type": "stream",
          "text": [
            "100%|██████████| 9912422/9912422 [03:05<00:00, 53556.82it/s] \n"
          ]
        },
        {
          "name": "stdout",
          "output_type": "stream",
          "text": [
            "Extracting ./data/MNIST/raw/train-images-idx3-ubyte.gz to ./data/MNIST/raw\n",
            "\n",
            "Downloading http://yann.lecun.com/exdb/mnist/train-labels-idx1-ubyte.gz\n",
            "Failed to download (trying next):\n",
            "HTTP Error 404: Not Found\n",
            "\n",
            "Downloading https://ossci-datasets.s3.amazonaws.com/mnist/train-labels-idx1-ubyte.gz\n",
            "Downloading https://ossci-datasets.s3.amazonaws.com/mnist/train-labels-idx1-ubyte.gz to ./data/MNIST/raw/train-labels-idx1-ubyte.gz\n"
          ]
        },
        {
          "name": "stderr",
          "output_type": "stream",
          "text": [
            "100%|██████████| 28881/28881 [00:00<00:00, 37669.02it/s]\n"
          ]
        },
        {
          "name": "stdout",
          "output_type": "stream",
          "text": [
            "Extracting ./data/MNIST/raw/train-labels-idx1-ubyte.gz to ./data/MNIST/raw\n",
            "\n",
            "Downloading http://yann.lecun.com/exdb/mnist/t10k-images-idx3-ubyte.gz\n",
            "Failed to download (trying next):\n",
            "HTTP Error 404: Not Found\n",
            "\n",
            "Downloading https://ossci-datasets.s3.amazonaws.com/mnist/t10k-images-idx3-ubyte.gz\n",
            "Downloading https://ossci-datasets.s3.amazonaws.com/mnist/t10k-images-idx3-ubyte.gz to ./data/MNIST/raw/t10k-images-idx3-ubyte.gz\n"
          ]
        },
        {
          "name": "stderr",
          "output_type": "stream",
          "text": [
            "100%|██████████| 1648877/1648877 [00:19<00:00, 83910.36it/s] \n"
          ]
        },
        {
          "name": "stdout",
          "output_type": "stream",
          "text": [
            "Extracting ./data/MNIST/raw/t10k-images-idx3-ubyte.gz to ./data/MNIST/raw\n",
            "\n",
            "Downloading http://yann.lecun.com/exdb/mnist/t10k-labels-idx1-ubyte.gz\n",
            "Failed to download (trying next):\n",
            "HTTP Error 404: Not Found\n",
            "\n",
            "Downloading https://ossci-datasets.s3.amazonaws.com/mnist/t10k-labels-idx1-ubyte.gz\n",
            "Downloading https://ossci-datasets.s3.amazonaws.com/mnist/t10k-labels-idx1-ubyte.gz to ./data/MNIST/raw/t10k-labels-idx1-ubyte.gz\n"
          ]
        },
        {
          "name": "stderr",
          "output_type": "stream",
          "text": [
            "100%|██████████| 4542/4542 [00:00<00:00, 779513.43it/s]"
          ]
        },
        {
          "name": "stdout",
          "output_type": "stream",
          "text": [
            "Extracting ./data/MNIST/raw/t10k-labels-idx1-ubyte.gz to ./data/MNIST/raw\n",
            "\n"
          ]
        },
        {
          "name": "stderr",
          "output_type": "stream",
          "text": [
            "\n"
          ]
        }
      ],
      "source": [
        "train_dataset = torchvision.datasets.MNIST(root='./data', train=True, download=True, transform=transform)\n",
        "\n",
        "test_dataset = torchvision.datasets.MNIST(root='./data', train=False, download=True, transform=transform)\n",
        "\n",
        "train_loader = DataLoader(train_dataset, batch_size=32, shuffle=True)\n",
        "test_loader = DataLoader(test_dataset, batch_size=32, shuffle=False)"
      ]
    },
    {
      "cell_type": "markdown",
      "metadata": {},
      "source": [
        "- ***shuffle=True***: Ensures random shuffling of training data to avoid biases.\n",
        "- ***batch_size=32***: Number of images processed at a time.\n"
      ]
    },
    {
      "cell_type": "markdown",
      "metadata": {
        "id": "Yq92Qwx-sPTv"
      },
      "source": [
        "Normalization of input data, such as using Normalize(mean=[0.5], std=[0.5]), is crucial. This step\n",
        "involves subtracting the mean and dividing by the standard deviation of the dataset, which speeds up the\n",
        "training process by standardizing the input values.\n",
        "Transforming input data to a suitable form and scale for efficient processing by the model is also essential\n",
        "for the effective training and testing of deep learning models on image datasets.\n",
        "The reason why we resize is because the model we are using for the task which is VGG16 is trained on\n",
        "224x 224 images. ToTensor() is used to transform 0-255 discrete values into 0-1 values which are\n",
        "easier to work with neural networks."
      ]
    },
    {
      "cell_type": "markdown",
      "metadata": {
        "id": "hkUlK6jQuo7R"
      },
      "source": [
        "# Step 4: Load the Pre-trained ResNet18 & AlexNet"
      ]
    },
    {
      "cell_type": "markdown",
      "metadata": {},
      "source": [
        "### **ResNet18 Model**"
      ]
    },
    {
      "cell_type": "markdown",
      "metadata": {},
      "source": [
        "**resnet18**\n",
        "\n",
        "![1_negMET6uK7bBLYaqMNpMNg.webp](data:image/webp;base64,UklGRlwdAABXRUJQVlA4WAoAAAAIAAAAdAEA7gEAVlA4ILgcAAAwkwCdASp1Ae8BPm02l0ikIyIhIhQ6cIANiWlu/GwYoiiHZ13fs5/He03+x/j3589+bxp7ZepX/c/2HzVbd/Qr+Q/WL7r/df3a/wPzv/U/739nfoj8gv4v1AvyL+Uf3X+z/uXwNuh+YF66fIf8N/d/3E/sXn5fn35Xf2P/////6E/L/6B/hfzB/vH2Afyj+Y/4b80/3////3p/rvCL+w/5n2AP5H/Tv8l/fP3F/xv//+Y7+8/vH+f/8/+Z9q35r/fP+N/jP838gv8n/oP+y/vH+f/ZX///V////cP+2nsj/rl/8x6K4qCV3UkSivKjryQdqj+XAJQjpTIKzWk6TYEOg8hikaqkw6nnSAQP7hMVSAG9K22yvUQCY5H2rOK+p1jY34rkQ3WluSbUn3h1/pK9hfKhchwd+0aQhEvABUHVZzxAQgduHIfHRVXIcLG1OiKY5yEYE3EMVcLJ7YwUhHSmPPYefEdxDkhh+r8Usn02fTiNH69POZevN/nsHxBrf0A8OW3COlMgrHM1ExqFx4Lnvc4Zbo2xUomenLbhHSmQV1Jjl+fszRDTQzaJCoPkBAihHSmQVyHCxtTlrK5ceuQWzKCAP4RXlFbU5bcI6UyCuQ3AgJvG9pKLDttKJjSTPk+24FMCE+m5B/1chwsbU5bb+JmGdw4tuEKjTBEHLPpljBSEKbmL5B2qY7uCYuEzJhZ7VMdnocgHoTKsqCJY2pymAugP47CcVlShKOIoSgCDkMmgDl6F1HGPgsE8VDVWbCs/WrSPUZkXlVOE6K0SUinT2BOFjamzRZIWShK0SiTl139/M8hUNDEROo6PxpNrrpkJbOe4vyzcELB7o4Je8uVfKhchs5FCmVjNE+kNYWGgTrdUMUnNgGgtrdLbi/++57gLdL8qFyDnkIDLXdtv5I53cdsT/s0S1e8xAFhTLmugl6KzmzD17QeFuC3mksPz7GCkI6LcRfNSIdhlFe7lo6FJgpCOA9a0CUvykIFFCOSedt8XN5I/mqu1PUvKmQzbhY8H/JiOyOQ4WMPOIRtNgVpq/GFqOESgSsSefDLANTQJI6mq2PCIRW4bqA8nkOFjZcxyQs3We2zkUtim8uAW+zkAQ1xGO1OcSEPR4BlxAp/pyfTZNzhsPvEvmnQHEKV+2NqDjrQ4GGSiS4J89QWvtaPR7c7YBl/otsfWfhXl/M2v2xtTltnPSQR0wgvG7Hs/X/FbvRvt8kw+MYBbuEdKZBXIbKoa7rbe5qJwxf3Myf3gQFkinL7viIGfOlkI+yaX7Y2py24RvO6Md5S0QndZ3Fh7LvlQuQ4WNjRRftBcsdEEqW8VmZ5KwDqtPi5EevQj8/U5bcI6UyCuKdYKHox4aR73IXBGXbwGVC5DhY2py24Qj+fRsAIGEp5qf/EnXaw2MVuLNJ5hlKfFIR0pkFchtSBlLJ6Aqsfu3QC6B39x/dG/MThPDHcDKb6NiWNqctuEdKZRZ2Tv6DjgGVrzDhY2py24R0WXzDl3DybJp1W+Koq+K84wTmXwdhKZBXIcLG1Nqc5b4mjrPtPnuK+X/7DGhVvzuH0XXP4bXFzKHGI7ddMgriAAAP7/Gx1z3xd+2spYJmUGA5qWAjuM0MEpGncaiFQwkCbS6SbXYvJ4z66tg85ejeorsbhJ3GOH7X0SWy5IsLR0EbUiWJe+KUtfTAksHTrQS2c3cDwdBcDBZ5rYbFxtG/nOrlrQAS6rTYbrLN5zy19XaIr0gGsocSQsSrmF94zZ2i8T+Uhdj2fsvkQJKg3Wl3QDZ3XrIRi96zsjwX8sZ6wsDBMIB6xk3jADctsBmebEZwc4OSzCq8H7aN3/Q9zroSKO0KB9znsEGchFST8VYx0Zt+RxgsTz47T7LZJlV6x5eolWpbxx0DxFGTbAvQ6OZXM8qhcXswoWLGPmO6jUpXwDVhtoLoezh8nyoeGa8OMFl3mKDbqhzs6RRsArbEl9KndoYG3INyX+tBzMPvLy24EXpFwx0O9oTMgVKEDrPhlVkWlpRwF2FMPAdSX+h/UaYbIDPu23kQvirc5KLTTdii/fjkWxiP2OMc5wav6Rz4PbMNqOp+jy3k0KyD7fU4bLCiKauG2IhF8jLTNjlS8k3SvtMEbmEzVzrRWkTpfccHN+a+SqcVsJzSAH1KModgZJhlnYPv2NTxCN12dueWGXF9hOwOjCYwMXUjNjVEfVWEz9kjdUmzJQ9hmys+fEw6sr88PynIEQe6fQjfiWo7VhMZTXcO4nT0ZHyJIb+L2fiQrnagglaDHS7ukDF73n9t6iVYNUcrczT/5/O+fXzPIfcB35qewnOAH3Y69kKYlavLiUjB5viVDBCNa9AqwGvEq6V3i9CynLS6ZG8KAvREfTeJt2kvNTBrS5Y+Vrq437+ePSATsAguKNEptg5sP+DKwCU3+k/l/wjgny5BlQqJjb6GszZ0daw1dDzjvRpJEbtb+79f0l3Ietzh6d9F/2Q9iFNmtkMvKjm9D1PymPsmx/VTccB3HtFsvGhqU6zDH6hhzBT8ICoH4wPDz7/WJ0v7HNJ+oICxE0tb2Ue/v9vi6XZ7gtibBBQ676ZV5o6SOBwl+zzm8vUBl4ObcxnT6USKFOxh4KKGDR0yQtRlkt7Ksns1qITTtjDYagvZNW6G4qE8ST4CrJiG9gGWlpUiAOVkjxOwmG5EN/kNq4GpAA68IGHIGahl2FKPxywmYdqqVJ57WT3a0Kh9+DGLiHaxLeSrnnCFJzw3BNvuS7nvb6pxNRGSVFAWzFgBv3eURLUpCAFEdgzRBt+cxHLmodIt3e32ilVFFQi/2SDicHqW3nzR1u4PIrPD0zhY+3dQJX+R3FvsVzj4BKEzFCI7xEx4WMTornDoxhGQSvlvAO+DMaj4XOACTLy67xQ8x+qGpYJwljRupp7+a5epGCD7TEYlIHZXg5wVAM9a2ADqiwBrjQWI4fmasz6b/HYiLlELAEXEX0Z1WWt4KZ4/zljoOAbN7S0/qHVV9KyCcaLuLS3v7V2BDB+ZItVKAoT57nkfgV+Xatw7qBzQE8g3ZgQ8u0pr9bRMBhckDIjnb0qkx0/m37BJGybYUzuVSvivBwEnlxlr7yVniGutQRJ86g7VhG0U1MgauT5flHwycnNQOE5NCv1D023LsAbEEsLkPUtlgV3AV4xxvdQV9ljUEJwfoHondBcgd/Mn4dak5r7GajiiIqBnPEOrgVLfNdcSgQvd+/uXRPaffgGvlliBpHOMqoAppFuxD+5SmzMRwuycBu/UC7aOWjivKkJ+sT9j9Dpl5mwTiyakPljB2MmVfKOfBZt6LwQXYWMkgGLBiX5HpqmbtR9vTlj2rx9u+2zqm0aZ5dKMAPZu/njUFzKrAfSvRmRLsBUWH/NECUS46xEWyIpP4Mv9lgHcLNwkz6Iv9WpEPeAE2MPjTZiCLhZQV2SlhJ6J378Hd/vpStEKFDMrTLnLtOBOwd89Na25bWblpa3SyOJWrCyRAVpbAhxHqEWJYm+8wVerO7khAjJ99/q2yhKnpB2fvTSGQtG9nAOoZSjMdt5Tiws456etgwXdYVFOsN/miqXjFZzBLUtIrZxMLixPseNo8XNsAuigHdHoRb17rL4mPw1aR142l1+eWFc7qUloU4TAtZ2OyOBGOS8UzrfO8GQsDf+2FiMnT05843euBpqvx8ucRgvu3CyvWTGQ7EQagmR9odA4n4LopX9yQItZyg8IXawqyrXNgG8jV+nlTm2XFxp3IsiIk7Zk7rMDGsmw2WTMIvfIs0PxUaLdLsx9BUAn9pzcD57keoakTfTChn8VOabEtZgxJfzV1vUMx5oCMgVFz3xd+2spYJmUGA5qWCORrghQqlUCRhcsJaCzHK4R9I87KwgzkTcOLNy+ufu3AmPj+1mTHCLiR9DBmagTOhPgoFrBYB9EmFMubraV7yWA/XM5mU1cvPTX+kWL2Dt6CGwKypGOUOVvX5AEvXP4EwQJXQc4jMXa2h8Fp+/LcINunDeYCN+DN1xIULEL0dT6BccDr8frYZY06d09ppFlyY2dYPpLGMAA1dvwB4Kl4ZPyZgiLXgbhLkRluIp6M849XFWd/aM73fp3xYf7cYFUgDUAqXnZRZ1S3o5aIq0TjW+UDzxIZ4Okbm756Stn7WfP4YhEAgZqNYXpp9ygjTbGqrYyH+5gTkH89FiAdk9HB8PXWl+k/ZST9RhqiKhGaiOGb9OA0hckImDBmDoMpKNG8q1Iauh3pNIkhImYNRQ9wxwfR0nzwtn2mdffN76a0/u5/SS1urfP1N09DsSblajRgn+6c5bITd+5nocccVJSi5d8n+cu3xncps8R7xDp/Ukz4vd4sI+EO0LDzhct0E4vMCorpabPEckUFuBwyDbgXhj96zH63+3PfeJR4dmX9vA0Nj0hWRVMKFRbY0i2Iv+znpHCP2DuyLc9Noo18kXDnXTvcldZXdSy77g2SUQRPulMqo1LnwXDdGyf3DYmniZPnSaM3hKmBjNXV6Cd4EpMDsmDQ3c1dYqTYMgZ7Sjl/DPqo9Cwz4QR/S8SqKf5h4rYoKib3ZE6pAZC8dXZ4HvHyLTnVROs4272OPllsm+C6ZXjY0B67Exq6zU/seR0kdPheAqiLmrwbh4OTARSRr8b86rV+OZKnDBBuEQWilmWC6YA9uYl5u7dCUeqLrvOXEyfvO3MlBOJcwX0M4cnRkEocqGCc7bscbLdwq/gTmSSZUKQoIu4xYaSHIODWWrM7kP4JvSBSMkCnv/eMYlqj2/vqYiyzK8U4rXDX43b8axAe+igY84EhKUXgDX13jjvow6l0dgFA42te7ouEksOlHqYm5qL8yht0dCHTRmkzluTZXhAHWXUVDpoVGP+Mc0n6gaYrPO8oJA0UA/NSSgkx1yT6sHWe1GPNtWKjTR0kkiorPN95yeXqAy8HNuY4WCHeeCpu/ZlO7osvAmj0oMNQcsCSx082fLAMkb14NgxxenWX+sTKABVkxDewDLS0qRAHKyR4nYTH9paUk/perZ0XPesIClnMdCQylR36rYkraJhFHMUiVdzjviKVHfpsofrDIT15r13lbO+QYiDWoW974eISyKf5HypdJZiwA37vKIlqUQ3ejfSLaUm2jT4dyYwKWTTMU17sO3UD8u08wOV5TDnEQOKYspcUTzZCYa9ist3XBvkVTg9sVxvNDfr+pvlrULVyHTmUyoKycn+cTVGO4UyhMDcmQoez6IkjjHEKXZVc65fOph3DEy+HA2VLxir0aFUJPNmuBLoE42WH36sTJ2TGYwBFv19Or2Ttiy8ol0/gLlDXTg2ghClFIlNz/1v4IzK1rzrwAAlgRFmsM8LFm2ep5XoMKOyv+GALWLAgXFftXS3IYQKw36RAjBLFTfxXgus2FiSppXn5mfkOsvX6PjAajFYZtFckx8Rxcmfh/7zQL0ROtFPIZCF+rvDi6e4/23RstbOQ5mGYDugUu7mSS1OJk4oHIlUWudxsA6MpMmq3182ftY4bt1/+sruLYfoLTrH19qPddfkAh0O0/ohOWRo7RtAXDGaJ811ePo72sobvLu5RyN/hN4bXWyuqvGawe3fy0FU7M+1b4cOQGh5l935phBZaurNu5dCQ1lSRlDyhOX2qFrbmr8C6luAQplcmRFW/V3qQ5lykcz9rrJc+4csOwwD4cnnwiw+BBCTdMuGRgARnkm7iq1LfqR3w2JHjCoIbjKPEQm89teoFaAgJ7D3vD3BlNitAivpzZWdQDyCiHxs2Hk/gtepGvGk0sW8IuaPYmytSls9MnWY8+jAQM+EM92l8rrSZoYjXlnbyYwslWJ9lr6eIF3P2iwe5pA2Zfcer7wz+1siEwl+6JwsF/gpzh7NOSNp2BtqcX7E6FbeWPoKIwekklEKDWpxLcuxDq9QGdVRmrAbs8GgLKphMzbfyYRzQrYifW0EghV/cKfi9FrpTyrElVcgQvkEHr10gJ+Q8t5lQgqtNzLWi0qMXPCi/uBDUDpN2X8mNw0RX9bPSZqmUFDJmMxPh3ZshoWG5BPwiyXrWAbo2Fh8qkhhtQ79k0OEtSs4IzQ4GAJSNO41EKjrlo+owtreWQq3yg54wo/tWgd5xZ/HnqmFoVuCCOiCCj14fbhhf/+C7F7smJhu0p8iZz22WJIyxJN7SbwpxBrqDZCxVmmKP7TpmRtf1PUjGDFSfHWSvwKWrlk1DX7QyZqttRybDri6ZBtjs4AFu52/VjmP6MPUBbbPWxBSrUxgjD6CFtBL5KN7IxOa2keKj8WPdpYVzFvMIQ4Dyc3tSbNsutHP6s63RN4pAdIarqEWiVF9HMzQEJuqsU/91a/7Ojl4sFbxUBBhgGEzMgYKEjzaboyUyUWnRFgyjE1FhuHDeprs6ztXNCmMeuvtdDlECobj6JOUyE037OM2BgCp1WHLYghv4rSbmLm8nQ7XirU+vmW/k1dcR4QYwwJm2/iLGuTd9cwYQbZypgAL/9zO9CxPqoE4yXbzBncrH4C3z/lYrD8Q9CWpa6GkJIgD8F/AGFPHQ0c7rHRZJB8QVhb8VqTxVLzWDsHdCLD28aD3TuyBPXffcDF2P/2sPvhgEAklIdmnY9bBlKPVXqXUcOjKwZgyY3fntu4ZHyIBUvE6FvEsoYtAzaO51vtIqGEnnaLVLR7UsfsWiKLt88TI+btnXX90604LKLh/pFIDd4lUpzLCL1LkcSfXTniVl/oUAGsJ3cMLWtFGsLpO7C/ZmzR7vzRKboZXlo7HUSWPUFYRatuSCpn36O70Hv9/wQX/E1TpSl58cpFm9HHfTMZQgiaZTpe7TgS4EU0OZKPtX/IC84yWFCsJEhxn3ozlkCMVri7Gn8fmbvJLiYfMOSua06LFQ2IC/5sHQUSmFbXbiexClFy2Dv4jxq2Nt3IDknBIfbzqBnvm650LGDUnC8005t8Gw9tnm6fIg5iA30yvECR0HVh/VEmaNdMIqPtEGymefc13Oq4B46olDZsjwgnegoqZSBL230IOWASHWYmzxJ9ccJg9bIgmwSXXnNSTxTWmg3zHEnnTmckgnauhmsA4CVipD+RfMpYnJnQ8yqfX52qm2ramNb3G3Spi+lmEa04eqsJrFDe6KErWh24av+oStvu5614VrkR3I7OARobYocVkvoQ8BHx66gfOnjHI1nKcTupzK9NksO4lH99La4JAl3/N+JyRs1s54eJn/+aW2cs0ZexGQByJXsgVjJYeJk6/KW98FCIZ/ozEgvAt2IS+Odd+k7yOYk84dtJDWg95BUQRj3mHdDKlnm5uiaa9d8NQR3M/gGVup22PVxDutWtjf6cvaL8+AY8eQcTlB1u198DKof3lpy31lMg37oYlRiEOZN8rL0/sD4CXx5eKap9gQQAUV7OhGiSvTx82/hBJPhneBz8kHhmRfuAieaL73Uzlz6JYEnew2mmlU0MCExr4DXqj8gaTf50rbGXMfo0k89NskkxpS34oH+Bbfdjb96Rzn3JGOifwifErwyJPd1L59jyCjgkIMyStVjw4I4sj20YvAPwvO/xz9lPAYlonLAogvun4vuIS/qYdDz5rUztW9gJU9tT2RBOFdztS9/Tyrj4uwFKGg20wAJd7m6VIPPPueJHejD9Bb+GO1Zc69s9y5xCrj4HNO85aUUM1WKST1RERA9dWjvO2gaMycY2kbbMAvEDbG9xZvXvtzk9ehz6qp+pVSUPB8wMyVKCJmMU00b4kWueMSFMEyVy+5V2uQzFXQ7/p+BGcBM1gV6xMhYt98yBCCeZoHrKbqJpvQZwM0uzV0fL0NvUygG+6dhKB6H8PkNCrKdcVJrj84QO9GvkYytoX1R6FBC4hfctBBGzOoRiK/WA9dXHPswtxLKhUmBf1/CVucYk87FVnH/SjPcEYq4G2l+I3uz32wdwVti70HG7YrzoIdkR3MxOzx1HymiY/p8bX4XLx/7qDYAHMjvQlViKGkinO4/dmfeQa597rqyY/aCHRtYY7RRxYi9VNfLzmjDYBfcBSqLP98B3slt5kCXIQN++HNg9o8Kd8qVlysXbsHGtaYgXUhqjqt1FY0BexXRAMdp529HVE8D5Oo/aq+0Bua+gHoI54JCBr1CN4keSmQbV8yGhcixQA5EJmlo4FUtp2PkOg1AZcVLlbUA/2MsrCG0Vamum5vLLBL19sZB+WDYwS8nYVdFHp9LvrU6geqPpq6NYh9rgQKP5H/pFoYir4ycfbeN38/cBL0mV/oTy33MabwD2T4d9F7rGocrlquv4Whasydz6dkowTfXXT6vDqoURJhNVh5xF2zmXiGIkJMV2H4GraOu70oSe6sNjCcUPwMRioP+KkpHR/RiNxB9/M960cD5/IxSgLHKUW0YqpCrwIlm7+x4yvOY6lfaCljS7Rr6F4xtDP545l63PQ2EcVbq2uJL7yXFSvvpEKVX2DsmCIvTq3sMtT6b95cqFQMQFaiXan98ybG96ddAH9aEbwFX308EBRiTGzuk0YAEKTjjrwthte+c/7IuOSCSApFEN5iaVxfbTrScl8YQj7LWhPIBkGWj/mD27PpA6d+nrh+UMWsYjrSFi/kArrdwyDyhWg/BsKAASyqq5ZGgd9tB/1aiyQxFa3DZ87+DyzHga4wNDAxZZbBz2kd0vKYmfg4KQcBApuJ75i7jcGaR6f0vVs6LnvWEFmx0JDKVHfqtiStonG0mW1jsnwDV9CawrL2482mv3AlxbYSK5e1I+k48fFSbcY7g+vCH7RXp1aM9B63v/NTDun3t9U4mojJKigLZiwA37vKIlqUhACiOwZ1IjVYAFTMELJYMVHqbjYeJPnRaYwu+SrNRNdXKv/sCQ4PggSqktjSGfZT1mL/eVKPLIRCv8O12gGSLVSgKE+dzeWOrNXi1bQhh7Xjl1vR6hOvFSS162J3t4T9YZCevNeu8nYPxbgzEY2hnEuJlYMLw0RLca4qBgjX2aWw0rEvf9ar0aR0xJ4dJ0Xgdkl5FU4PaVxW5MndTxT45knVQz+EdpL/YnSXbCtRNRyDpTinBXw6/aO357zmm7JqBdE5umJ9opcoTgGo+R81cOowAQPgB8Qjeyc5LghCgVkm5mxSCQsMtmmqIaYISg4tfnPezw95cj79ZIlLH+5/WHaPTXCdsYbDUF7Jq3Q3KkTZPbQEel07o2bNeqZRpjrwjaL+2IKhBfBsrrlNRCbuEIqgqaZ9zLGjYGP/Rip5+SWfnrq6lQA5rPgAoVvguhsuE+RFNZBHOCIvpon+sAvaAsCclV7r4whS4+OrN8ddzc4CNe1mOAt4EehSlikC/uArOrgcMOQBQThq9/awYBTgYjTAJ6mRAd5YItFzydF7Mq+GoYqwDxVi0pADp0npqKY+IYkdG2JcX7VEFt3smRFSPHmNjfS/PO5sc4LnHMQjuF56DAVoWKammjIvVr7GmFEzv7dlLLSAC5A/P8XUqxnaQbZB8lquK3/iP3tI/o50wAuzATg9kwlWHQ3QBr4Wg2+haCyutLMsOPC11sqHQhqpumXjBbc6UiV8fGvNsjo8Ff82Hr2OO4CBE01CZaJE9NV4B5aOO2bFpx4s/ijymmHZTZXJEXbxzBFHmjoKMOK9aNHmA0PxDDmB6IxUetOvEJsN39y1z8fU+JwQxINolFIWRQoYTI/CxwSqsFyX2YhAKXwAydk6gjr+JeyJJhgBiaZ4pAzXfI3TSRyuEq7vnWUyJPirelvsQF3UhnrqqFgyUhxY08atdwCcVQPVXQjo9cRkZTpiXlh2TtPd84y3u6GQP4+ngBpJncfMppO1kU2LLq7fzLcxX19bF+9gmn8NhVyFGe/tsEwO/qZiHKAhq8lPFSpmWhTIVvmAAAEVYSUZ+AAAARXhpZgAATU0AKgAAAAgABQESAAMAAAABAAEAAAEaAAUAAAABAAAASgEbAAUAAAABAAAAUgEoAAMAAAABAAIAAIdpAAQAAAABAAAAWgAAAAAAAABIAAAAAQAAAEgAAAABAAKgAgAEAAAAAQAAAXWgAwAEAAAAAQAAAe8AAAAA)"
      ]
    },
    {
      "cell_type": "markdown",
      "metadata": {},
      "source": [
        "![1_o7IEqUjg318onKRAhqO0Tg.webp](data:image/webp;base64,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)"
      ]
    },
    {
      "cell_type": "markdown",
      "metadata": {},
      "source": [
        "**Architecture**: ResNet18 is part of the ResNet (Residual Network) family and consists of 18 layers: 17 convolutional layers followed by a fully connected layer.\n",
        "\n",
        "**Depth**: Deeper than AlexNet, with a focus on residual learning.\n",
        "\n",
        "**Performance**: Known for its ability to train very deep networks without the vanishing gradient problem, achieving state-of-the-art results in various tasks.\n",
        "\n",
        "**Parameters**: ResNet18 has around 11.7 million parameters.\n",
        "\n",
        "**Activation Function**: Uses ReLU activation function.\n",
        "\n",
        "**Normalization**: Uses Batch Normalization."
      ]
    },
    {
      "cell_type": "code",
      "execution_count": 6,
      "metadata": {},
      "outputs": [],
      "source": [
        "class MNISTResNet(nn.Module):\n",
        "    def __init__(self):\n",
        "        super(MNISTResNet, self).__init__()\n",
        "        self.resnet18 = models.resnet18(weights=models.ResNet18_Weights.IMAGENET1K_V1)\n",
        "        self.resnet18.conv1 = nn.Conv2d(3, 64, kernel_size=7, stride=2, padding=3, bias=False)  # Adjust input layer\n",
        "        num_ftrs = self.resnet18.fc.in_features\n",
        "        self.resnet18.fc = nn.Linear(num_ftrs, 10)  # Modify output layer for 10 classes\n",
        "\n",
        "    def forward(self, x):\n",
        "        return self.resnet18(x)"
      ]
    },
    {
      "cell_type": "markdown",
      "metadata": {},
      "source": [
        "#### **Understanding ResNet18**\n",
        "- **Conv2d(3, 64, kernel_size=7, stride=2, padding=3)**: The first convolutional layer expects 3-channel input.\n",
        "- **Skip connections**: ResNet18 has residual connections that help prevent vanishing gradients.\n",
        "- **Modified output layer**: We replace the final fully connected layer to classify 10 digits."
      ]
    },
    {
      "cell_type": "code",
      "execution_count": 7,
      "metadata": {},
      "outputs": [],
      "source": [
        "resnet_model = MNISTResNet()\n",
        "# summary(resnet_model, (3, 224, 224))"
      ]
    },
    {
      "cell_type": "markdown",
      "metadata": {},
      "source": [
        "### **AlexNet Model**"
      ]
    },
    {
      "cell_type": "markdown",
      "metadata": {},
      "source": [
        "**AlexNet**\n",
        "\n",
        "![1_0dsWFuc0pDmcAmHJUh7wqg.webp](data:image/webp;base64,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)\n",
        "\n"
      ]
    },
    {
      "cell_type": "markdown",
      "metadata": {},
      "source": [
        "**Architecture**: AlexNet consists of 8 layers: 5 convolutional layers followed by 3 fully connected layers.\n",
        "\n",
        "**Depth**: AlexNet is relatively shallow compared to modern architectures.\n",
        "\n",
        "**Performance**: It was revolutionary in 2012, winning the ImageNet Large Scale Visual Recognition Challenge (ILSVRC) with a top-5 error rate of 15.3%.\n",
        "\n",
        "**Parameters**: AlexNet has around 60 million parameters.\n",
        "\n",
        "**Activation Function**: Uses ReLU (Rectified Linear Unit) activation function.\n",
        "\n",
        "**Normalization**: Implements Local Response Normalization (LRN)."
      ]
    },
    {
      "cell_type": "code",
      "execution_count": 10,
      "metadata": {},
      "outputs": [],
      "source": [
        "class MNISTAlexNet(nn.Module):\n",
        "    def __init__(self):\n",
        "        super(MNISTAlexNet, self).__init__()\n",
        "        self.alexnet = models.alexnet(weights=models.AlexNet_Weights.IMAGENET1K_V1)\n",
        "        num_ftrs = self.alexnet.classifier[6].in_features\n",
        "        self.alexnet.classifier[6] = nn.Linear(num_ftrs, 10)  # Change final layer\n",
        "\n",
        "    def forward(self, x):\n",
        "        return self.alexnet(x)\n"
      ]
    },
    {
      "cell_type": "markdown",
      "metadata": {},
      "source": [
        "**Understanding AlexNet**\n",
        "- **Uses 5 convolutional layers followed by fully connected layers.**\n",
        "- **Simpler than ResNet**, without residual connections."
      ]
    },
    {
      "cell_type": "code",
      "execution_count": 9,
      "metadata": {},
      "outputs": [
        {
          "name": "stderr",
          "output_type": "stream",
          "text": [
            "Downloading: \"https://download.pytorch.org/models/alexnet-owt-7be5be79.pth\" to /home/ravindu/.cache/torch/hub/checkpoints/alexnet-owt-7be5be79.pth\n",
            "100%|██████████| 233M/233M [21:41<00:00, 188kB/s]    \n"
          ]
        }
      ],
      "source": [
        "alexnet_model = MNISTAlexNet()"
      ]
    },
    {
      "cell_type": "markdown",
      "metadata": {
        "id": "kIzY_Uk_uwvJ"
      },
      "source": [
        "# Step 5: Define the Loss Function and optimizer and initialize the model"
      ]
    },
    {
      "cell_type": "code",
      "execution_count": 12,
      "metadata": {
        "colab": {
          "base_uri": "https://localhost:8080/",
          "height": 180
        },
        "id": "MisCMTmstQJo",
        "outputId": "04073c3f-d5ae-4f74-a760-ffcb41c0a053"
      },
      "outputs": [],
      "source": [
        "device = 'cuda' if torch.cuda.is_available() else 'cpu'\n",
        "\n",
        "def train_model(model, train_loader, criterion, optimizer, num_epochs=10):\n",
        "    model.to(device)\n",
        "    for epoch in range(num_epochs):\n",
        "        model.train()\n",
        "        running_loss = 0.0\n",
        "        for images, labels in train_loader:\n",
        "            images, labels = images.to(device), labels.to(device)\n",
        "            optimizer.zero_grad()\n",
        "            outputs = model(images)\n",
        "            loss = criterion(outputs, labels)\n",
        "            loss.backward()\n",
        "            optimizer.step()\n",
        "            running_loss += loss.item()\n",
        "        print(f\"Epoch [{epoch+1}/{num_epochs}], Loss: {running_loss/len(train_loader):.4f}\")\n",
        "\n",
        "def evaluate_model(model, test_loader):\n",
        "    model.eval()\n",
        "    correct = 0\n",
        "    total = 0\n",
        "    with torch.no_grad():\n",
        "        for images, labels in test_loader:\n",
        "            images, labels = images.to(device), labels.to(device)\n",
        "            outputs = model(images)\n",
        "            _, predicted = torch.max(outputs, 1)\n",
        "            total += labels.size(0)\n",
        "            correct += (predicted == labels).sum().item()\n",
        "    accuracy = 100 * correct / total\n",
        "    print(f'Accuracy: {accuracy:.2f}%')\n",
        "    return accuracy\n"
      ]
    },
    {
      "cell_type": "markdown",
      "metadata": {},
      "source": [
        "- **CrossEntropyLoss**: Used for multi-class classification.\n",
        "- **Adam Optimizer**: Adaptive learning rate optimization."
      ]
    },
    {
      "cell_type": "markdown",
      "metadata": {
        "id": "XH9RhG1htzK-"
      },
      "source": [
        "# Step 6: Train the Model and Evaluate the Model"
      ]
    },
    {
      "cell_type": "markdown",
      "metadata": {},
      "source": [
        "#### Training ResNet18\n",
        " "
      ]
    },
    {
      "cell_type": "code",
      "execution_count": 15,
      "metadata": {
        "id": "0ieCoU8Ft2n2"
      },
      "outputs": [
        {
          "name": "stdout",
          "output_type": "stream",
          "text": [
            "Training ResNet18...\n",
            "Epoch [1/10], Loss: 0.0811\n",
            "Epoch [2/10], Loss: 0.0407\n",
            "Epoch [3/10], Loss: 0.0340\n",
            "Epoch [4/10], Loss: 0.0281\n",
            "Epoch [5/10], Loss: 0.0225\n",
            "Epoch [6/10], Loss: 0.0203\n",
            "Epoch [7/10], Loss: 0.0162\n",
            "Epoch [8/10], Loss: 0.0139\n",
            "Epoch [9/10], Loss: 0.0117\n",
            "Epoch [10/10], Loss: 0.0103\n",
            "Evaluating ResNet18...\n",
            "Accuracy: 99.04%\n"
          ]
        },
        {
          "data": {
            "text/plain": [
              "99.04"
            ]
          },
          "execution_count": 15,
          "metadata": {},
          "output_type": "execute_result"
        }
      ],
      "source": [
        "resnet_model = MNISTResNet().to(device)\n",
        "criterion = nn.CrossEntropyLoss()\n",
        "optimizer = optim.Adam(resnet_model.parameters(), lr=0.001)\n",
        "\n",
        "print(\"Training ResNet18...\")\n",
        "train_model(resnet_model, train_loader, criterion, optimizer, num_epochs=10)\n",
        "print(\"Evaluating ResNet18...\")\n",
        "evaluate_model(resnet_model, test_loader)\n"
      ]
    },
    {
      "cell_type": "code",
      "execution_count": 16,
      "metadata": {},
      "outputs": [],
      "source": [
        "def save_model(model, filename):\n",
        "    torch.save(model.state_dict(), filename)\n",
        "    print(f'Model saved as {filename}')\n"
      ]
    },
    {
      "cell_type": "code",
      "execution_count": 55,
      "metadata": {},
      "outputs": [],
      "source": [
        "def load_model(model_class, filename):\n",
        "    model = model_class().to(device)\n",
        "    model.load_state_dict(torch.load(filename))\n",
        "    model.eval()  # Set to evaluation mode\n",
        "    print(f'Model loaded from {filename}')\n",
        "    return model"
      ]
    },
    {
      "cell_type": "code",
      "execution_count": 17,
      "metadata": {},
      "outputs": [
        {
          "name": "stdout",
          "output_type": "stream",
          "text": [
            "Model saved as resnet18_mnist.pth\n"
          ]
        }
      ],
      "source": [
        "# Save ResNet18 Model\n",
        "save_model(resnet_model, \"resnet18_mnist.pth\")"
      ]
    },
    {
      "cell_type": "markdown",
      "metadata": {},
      "source": [
        "#### Training AlexNet"
      ]
    },
    {
      "cell_type": "code",
      "execution_count": 18,
      "metadata": {},
      "outputs": [
        {
          "name": "stdout",
          "output_type": "stream",
          "text": [
            "Training AlexNet...\n",
            "Epoch [1/10], Loss: 0.4430\n",
            "Epoch [2/10], Loss: 0.1685\n",
            "Epoch [3/10], Loss: 0.1428\n",
            "Epoch [4/10], Loss: 0.1391\n",
            "Epoch [5/10], Loss: 0.1370\n",
            "Epoch [6/10], Loss: 0.1355\n",
            "Epoch [7/10], Loss: 0.1484\n",
            "Epoch [8/10], Loss: 0.1239\n",
            "Epoch [9/10], Loss: 0.1096\n",
            "Epoch [10/10], Loss: 0.1213\n",
            "Evaluating AlexNet...\n",
            "Accuracy: 98.80%\n"
          ]
        },
        {
          "data": {
            "text/plain": [
              "98.8"
            ]
          },
          "execution_count": 18,
          "metadata": {},
          "output_type": "execute_result"
        }
      ],
      "source": [
        "alexnet_model = MNISTAlexNet().to(device)\n",
        "criterion = nn.CrossEntropyLoss()\n",
        "optimizer = optim.Adam(alexnet_model.parameters(), lr=0.001)\n",
        "\n",
        "print(\"Training AlexNet...\")\n",
        "train_model(alexnet_model, train_loader, criterion, optimizer, num_epochs=10)\n",
        "print(\"Evaluating AlexNet...\")\n",
        "evaluate_model(alexnet_model, test_loader)\n"
      ]
    },
    {
      "cell_type": "code",
      "execution_count": 19,
      "metadata": {},
      "outputs": [
        {
          "name": "stdout",
          "output_type": "stream",
          "text": [
            "Model saved as alexnet_mnist.pth\n"
          ]
        }
      ],
      "source": [
        "# Save AlexNet Model\n",
        "save_model(alexnet_model, \"alexnet_mnist.pth\")"
      ]
    },
    {
      "cell_type": "markdown",
      "metadata": {},
      "source": [
        "### Comparison of AlexNet and ResNet18  \n",
        "\n",
        "- **Architecture**:  \n",
        "  - **AlexNet**: Sequential with 5 convolutional layers and fully connected layers.  \n",
        "  - **ResNet18**: Deeper with residual (skip) connections for better gradient flow.  \n",
        "\n",
        "- **Parameters & Efficiency**:  \n",
        "  - **AlexNet**: ~60 million parameters, computationally heavy.  \n",
        "  - **ResNet18**: ~11 million parameters, more optimized and efficient.  \n",
        "\n",
        "- **Training & Performance**:  \n",
        "  - **AlexNet**: Susceptible to vanishing gradients in deeper versions.  \n",
        "  - **ResNet18**: Skip connections allow better gradient propagation and training stability.  \n",
        "\n",
        "- **Transfer Learning**:  \n",
        "  - **AlexNet**: Less effective due to its shallow structure.  \n",
        "  - **ResNet18**: Retains fine-grained features better, making it more useful for transfer learning."
      ]
    },
    {
      "cell_type": "markdown",
      "metadata": {
        "id": "LRzDX6gkvE3R"
      },
      "source": [
        "# **Lab Task 2: Impact of Hyperparameters**"
      ]
    },
    {
      "cell_type": "markdown",
      "metadata": {},
      "source": [
        "### 1. Model A"
      ]
    },
    {
      "cell_type": "code",
      "execution_count": null,
      "metadata": {
        "id": "NcUYNQNAvHvf"
      },
      "outputs": [],
      "source": [
        "class ModelA(nn.Module):\n",
        "    def __init__(self):\n",
        "        super(ModelA, self).__init__()\n",
        "        self.conv1 = nn.Conv2d(3, 8, kernel_size=3, stride=1, padding=1)  # Change from 1 to 3 channels\n",
        "        self.pool = nn.MaxPool2d(kernel_size=2, stride=2, padding=0)\n",
        "        self.fc1 = nn.Linear(8 * 112 * 112, 64) # input size, output size\n",
        "        self.fc2 = nn.Linear(64, 10)\n",
        "\n",
        "    def forward(self, x):\n",
        "        x = self.pool(nn.ReLU()(self.conv1(x)))\n",
        "        x = x.view(x.size(0), -1)\n",
        "        x = nn.ReLU()(self.fc1(x))\n",
        "        x = self.fc2(x)\n",
        "        return x\n",
        "\n"
      ]
    },
    {
      "cell_type": "markdown",
      "metadata": {},
      "source": [
        "## Model A Data Flow\n",
        "\n",
        "1.  **Input:**\n",
        "    * Shape: `(batch_size, 3, 224, 224)` (e.g., `(32, 3, 224, 224)`)\n",
        "    * Description: Batch of MNIST images, resized to 224x224, 3 channels.\n",
        "\n",
        "2.  **`conv1`:**\n",
        "    * `nn.Conv2d(3, 8, kernel_size=3, stride=1, padding=1)`\n",
        "    * Input Channels: 3\n",
        "    * Output Channels: 8\n",
        "    * Kernel Size: 3x3\n",
        "    * Stride: 1\n",
        "    * Padding: 1\n",
        "    * Shape: `(batch_size, 8, 224, 224)`\n",
        "\n",
        "3.  **`ReLU`:**\n",
        "    * Shape: `(batch_size, 8, 224, 224)`\n",
        "    * Description: Applies ReLU activation.\n",
        "\n",
        "4.  **`pool`:**\n",
        "    * `nn.MaxPool2d(kernel_size=2, stride=2)`\n",
        "    * Kernel Size: 2x2\n",
        "    * Stride: 2\n",
        "    * Shape: `(batch_size, 8, 112, 112)`\n",
        "\n",
        "5.  **`x.view(x.size(0), -1)`:**\n",
        "    * Shape: `(batch_size, 8 * 112 * 112)` = `(batch_size, 100352)`\n",
        "    * Description: Flattens the feature maps.\n",
        "\n",
        "6.  **`fc1`:**\n",
        "    * `nn.Linear(100352, 64)`\n",
        "    * Input Features: 100352\n",
        "    * Output Features: 64\n",
        "    * Shape: `(batch_size, 64)`\n",
        "\n",
        "7.  **`ReLU`:**\n",
        "    * Shape: `(batch_size, 64)`\n",
        "    * Description: Applies ReLU activation.\n",
        "\n",
        "8.  **`fc2`:**\n",
        "    * `nn.Linear(64, 10)`\n",
        "    * Input Features: 64\n",
        "    * Output Features: 10\n",
        "    * Shape: `(batch_size, 10)`\n",
        "\n",
        "9.  **Output:**\n",
        "    * Shape: `(batch_size, 10)`\n",
        "    * Description: Logits for each class.\n",
        "\n"
      ]
    },
    {
      "cell_type": "markdown",
      "metadata": {},
      "source": [
        "How it works:\n",
        "\n",
        "1. The first convolutional layer extracts simple patterns (edges, textures) from the input images.\n",
        "2. Max pooling reduces the size and keeps important features.\n",
        "3. The output is flattened and passed through two fully connected layers, where:\n",
        "- fc1: Extracts high-level features.\n",
        "- fc2: Outputs 10 class probabilities.\n",
        "\n",
        "Use Case:\n",
        "\n",
        "- This is a lightweight CNN useful for small datasets like MNIST or CIFAR-10.\n",
        "- However, it is limited in capturing deep features compared to transfer learning models.\n"
      ]
    },
    {
      "cell_type": "markdown",
      "metadata": {},
      "source": [
        "### 2. Model B"
      ]
    },
    {
      "cell_type": "code",
      "execution_count": 51,
      "metadata": {},
      "outputs": [],
      "source": [
        "class ModelB(nn.Module):\n",
        "    def __init__(self):\n",
        "        super(ModelB, self).__init__()\n",
        "        self.conv1 = nn.Conv2d(3, 8, kernel_size=3, padding=1) # Change to 3 channels\n",
        "        self.conv2 = nn.Conv2d(8, 16, kernel_size=3, padding=1)\n",
        "        self.pool = nn.MaxPool2d(kernel_size=2, stride=2)\n",
        "        self.fc1 = nn.Linear(16 * 56 * 56, 64) # corrected\n",
        "        self.fc2 = nn.Linear(64, 10)\n",
        "\n",
        "    def forward(self, x):\n",
        "        x = self.pool(torch.relu(self.conv1(x)))\n",
        "        x = self.pool(torch.relu(self.conv2(x)))\n",
        "        x = x.view(x.size(0), -1)\n",
        "        x = torch.relu(self.fc1(x))\n",
        "        x = self.fc2(x)\n",
        "        return x\n"
      ]
    },
    {
      "cell_type": "markdown",
      "metadata": {},
      "source": [
        "## Model B Data Flow\n",
        "\n",
        "1.  **Input:**\n",
        "    * Shape: `(batch_size, 3, 224, 224)`\n",
        "    * Description: Batch of MNIST images, resized to 224x224, 3 channels.\n",
        "\n",
        "2.  **`conv1`:**\n",
        "    * `nn.Conv2d(3, 8, kernel_size=3, padding=1)`\n",
        "    * Input Channels: 3\n",
        "    * Output Channels: 8\n",
        "    * Kernel Size: 3x3\n",
        "    * Padding: 1\n",
        "    * Shape: `(batch_size, 8, 224, 224)`\n",
        "\n",
        "3.  **`ReLU`:**\n",
        "    * Shape: `(batch_size, 8, 224, 224)`\n",
        "    * Description: Applies ReLU activation.\n",
        "\n",
        "4.  **`pool`:**\n",
        "    * `nn.MaxPool2d(kernel_size=2, stride=2)`\n",
        "    * Shape: `(batch_size, 8, 112, 112)`\n",
        "\n",
        "5.  **`conv2`:**\n",
        "    * `nn.Conv2d(8, 16, kernel_size=3, padding=1)`\n",
        "    * Input Channels: 8\n",
        "    * Output Channels: 16\n",
        "    * Kernel Size: 3x3\n",
        "    * Padding: 1\n",
        "    * Shape: `(batch_size, 16, 112, 112)`\n",
        "\n",
        "6.  **`ReLU`:**\n",
        "    * Shape: `(batch_size, 16, 112, 112)`\n",
        "    * Description: Applies ReLU activation.\n",
        "\n",
        "7.  **`pool`:**\n",
        "    * `nn.MaxPool2d(kernel_size=2, stride=2)`\n",
        "    * Shape: `(batch_size, 16, 56, 56)`\n",
        "\n",
        "8.  **`x.view(x.size(0), -1)`:**\n",
        "    * Shape: `(batch_size, 16 * 56 * 56)` = `(batch_size, 50176)`\n",
        "    * Description: Flattens the feature maps.\n",
        "\n",
        "9.  **`fc1`:**\n",
        "    * `nn.Linear(50176, 64)`\n",
        "    * Input Features: 50176\n",
        "    * Output Features: 64\n",
        "    * Shape: `(batch_size, 64)`\n",
        "\n",
        "10. **`ReLU`:**\n",
        "    * Shape: `(batch_size, 64)`\n",
        "    * Description: Applies ReLU activation.\n",
        "\n",
        "11. **`fc2`:**\n",
        "    * `nn.Linear(64, 10)`\n",
        "    * Input Features: 64\n",
        "    * Output Features: 10\n",
        "    * Shape: `(batch_size, 10)`\n",
        "\n",
        "12. **Output:**\n",
        "    * Shape: `(batch_size, 10)`\n",
        "    * Description: Logits for each class."
      ]
    },
    {
      "cell_type": "markdown",
      "metadata": {},
      "source": [
        "How it works:\n",
        "\n",
        "1. First convolutional layer learns basic edges.\n",
        "2. Second convolutional layer learns more complex patterns.\n",
        "3. Max pooling after both convolutions ensures reduced dimensionality while keeping key features.\n",
        "4. Fully connected layers classify the image into one of 10 categories.\n",
        "\n",
        "Differences from Model A:\n",
        "\n",
        "- Deeper network → Can learn more complex patterns.\n",
        "- More parameters → More compute-intensive.\n",
        "\n",
        "Use Case:\n",
        "\n",
        "- Suitable for small datasets but more powerful than Model A.\n",
        "- Can generalize better if trained on a diverse dataset.\n"
      ]
    },
    {
      "cell_type": "markdown",
      "metadata": {},
      "source": [
        "### 3. Train and Evaluate Model A and Model B"
      ]
    },
    {
      "cell_type": "code",
      "execution_count": 52,
      "metadata": {},
      "outputs": [
        {
          "name": "stdout",
          "output_type": "stream",
          "text": [
            "Training Model A...\n",
            "Epoch [1/10], Loss: 0.3515\n",
            "Epoch [2/10], Loss: 0.1942\n",
            "Epoch [3/10], Loss: 0.1366\n",
            "Epoch [4/10], Loss: 0.0952\n",
            "Epoch [5/10], Loss: 0.0707\n",
            "Epoch [6/10], Loss: 0.0575\n",
            "Epoch [7/10], Loss: 0.0436\n",
            "Epoch [8/10], Loss: 0.0373\n",
            "Epoch [9/10], Loss: 0.0321\n",
            "Epoch [10/10], Loss: 0.0267\n",
            "Training Model B...\n",
            "Epoch [1/10], Loss: 0.2152\n",
            "Epoch [2/10], Loss: 0.0696\n",
            "Epoch [3/10], Loss: 0.0377\n",
            "Epoch [4/10], Loss: 0.0221\n",
            "Epoch [5/10], Loss: 0.0149\n",
            "Epoch [6/10], Loss: 0.0123\n",
            "Epoch [7/10], Loss: 0.0085\n",
            "Epoch [8/10], Loss: 0.0067\n",
            "Epoch [9/10], Loss: 0.0070\n",
            "Epoch [10/10], Loss: 0.0047\n"
          ]
        }
      ],
      "source": [
        "def train_simple_model(model, train_loader, optimizer, num_epochs=10):\n",
        "    model.to(device)\n",
        "    criterion = nn.CrossEntropyLoss()\n",
        "    \n",
        "    for epoch in range(num_epochs):\n",
        "        model.train()\n",
        "        running_loss = 0.0\n",
        "        for images, labels in train_loader:\n",
        "            images, labels = images.to(device), labels.to(device)\n",
        "            optimizer.zero_grad()\n",
        "            outputs = model(images)\n",
        "\n",
        "            loss = criterion(outputs, labels)\n",
        "            loss.backward()\n",
        "            optimizer.step()\n",
        "            running_loss += loss.item()\n",
        "        \n",
        "        print(f\"Epoch [{epoch+1}/{num_epochs}], Loss: {running_loss/len(train_loader):.4f}\")\n",
        "\n",
        "print(\"Training Model A...\")\n",
        "model_a = ModelA().to(device)\n",
        "optimizer_a = optim.Adam(model_a.parameters(), lr=0.001)\n",
        "train_simple_model(model_a, train_loader, optimizer_a, num_epochs=10)\n",
        "\n",
        "print(\"Training Model B...\")\n",
        "model_b = ModelB().to(device)\n",
        "optimizer_b = optim.Adam(model_b.parameters(), lr=0.001)\n",
        "train_simple_model(model_b, train_loader, optimizer_b, num_epochs=10)"
      ]
    },
    {
      "cell_type": "code",
      "execution_count": 53,
      "metadata": {},
      "outputs": [
        {
          "name": "stdout",
          "output_type": "stream",
          "text": [
            "Model saved as modelA_mnist.pth\n"
          ]
        }
      ],
      "source": [
        "# Save Model A\n",
        "save_model(model_a, \"modelA_mnist.pth\")"
      ]
    },
    {
      "cell_type": "code",
      "execution_count": 56,
      "metadata": {},
      "outputs": [
        {
          "name": "stdout",
          "output_type": "stream",
          "text": [
            "Evaluating Model A...\n",
            "Model loaded from modelA_mnist.pth\n",
            "Accuracy: 97.26%\n"
          ]
        },
        {
          "data": {
            "text/plain": [
              "97.26"
            ]
          },
          "execution_count": 56,
          "metadata": {},
          "output_type": "execute_result"
        }
      ],
      "source": [
        "print(\"Evaluating Model A...\")\n",
        "loaded_modelA = load_model(ModelA, \"modelA_mnist.pth\")\n",
        "evaluate_model(loaded_modelA, test_loader)\n"
      ]
    },
    {
      "cell_type": "code",
      "execution_count": 54,
      "metadata": {},
      "outputs": [
        {
          "name": "stdout",
          "output_type": "stream",
          "text": [
            "Model saved as modelB_mnist.pth\n"
          ]
        }
      ],
      "source": [
        "# Save Model B\n",
        "save_model(model_b, \"modelB_mnist.pth\")"
      ]
    },
    {
      "cell_type": "code",
      "execution_count": 58,
      "metadata": {},
      "outputs": [
        {
          "name": "stdout",
          "output_type": "stream",
          "text": [
            "Evaluating Model B...\n",
            "Model loaded from modelB_mnist.pth\n",
            "Accuracy: 97.43%\n"
          ]
        },
        {
          "data": {
            "text/plain": [
              "97.43"
            ]
          },
          "execution_count": 58,
          "metadata": {},
          "output_type": "execute_result"
        }
      ],
      "source": [
        "print(\"Evaluating Model B...\")\n",
        "loaded_modelB = load_model(ModelB, \"modelB_mnist.pth\")\n",
        "evaluate_model(loaded_modelB, test_loader)"
      ]
    },
    {
      "cell_type": "code",
      "execution_count": 59,
      "metadata": {},
      "outputs": [
        {
          "name": "stdout",
          "output_type": "stream",
          "text": [
            "Model loaded from resnet18_mnist.pth\n",
            "Accuracy: 99.04%\n"
          ]
        },
        {
          "data": {
            "text/plain": [
              "99.04"
            ]
          },
          "execution_count": 59,
          "metadata": {},
          "output_type": "execute_result"
        }
      ],
      "source": [
        "loaded_resnet = load_model(MNISTResNet, \"resnet18_mnist.pth\")\n",
        "evaluate_model(loaded_resnet, test_loader)\n"
      ]
    },
    {
      "cell_type": "code",
      "execution_count": 60,
      "metadata": {},
      "outputs": [
        {
          "name": "stdout",
          "output_type": "stream",
          "text": [
            "Model loaded from modelA_mnist.pth\n",
            "Accuracy: 97.26%\n"
          ]
        },
        {
          "data": {
            "text/plain": [
              "97.26"
            ]
          },
          "execution_count": 60,
          "metadata": {},
          "output_type": "execute_result"
        }
      ],
      "source": [
        "loaded_modelA = load_model(ModelA, \"modelA_mnist.pth\")\n",
        "evaluate_model(loaded_modelA, test_loader)\n"
      ]
    },
    {
      "cell_type": "markdown",
      "metadata": {},
      "source": [
        "### Answers  \n",
        "\n",
        "#### 1. Train Model A and Model B  \n",
        "- Both Model A and Model B were trained on the dataset using the Adam optimizer with a learning rate of 0.001.  \n",
        "\n",
        "#### 2. Observed Performance Differences  \n",
        "- Model B outperforms Model A in terms of accuracy and loss reduction over epochs.  \n",
        "- Model A converges slower and exhibits higher loss values.  \n",
        "\n",
        "#### 3. Reason for Performance Differences  \n",
        "- Model B has an additional convolutional layer, allowing it to capture more complex patterns.  \n",
        "- Model A's simpler architecture limits its ability to learn intricate features.  \n",
        "- Model B benefits from deeper feature extraction, leading to improved classification.  \n",
        "\n",
        "#### 4. Effect of Different Activation Functions  \n",
        "\n",
        "**a. ReLU**  \n",
        "- Faster training, avoids vanishing gradients, leads to better performance.  \n",
        "\n",
        "**b. Sigmoid**  \n",
        "- Slower convergence, prone to vanishing gradients, leads to suboptimal results.  \n",
        "\n",
        "**c. Tanh**  \n",
        "- Better than sigmoid but still suffers from vanishing gradients, moderate performance.  \n",
        "\n",
        "**d. Observations**  \n",
        "- ReLU provides the best performance due to its non-linearity and ability to avoid gradient saturation.  \n",
        "- Sigmoid and Tanh slow down training and result in lower accuracy.  \n",
        "\n",
        "#### 5. Effect of Learning Rate on Model B  \n",
        "\n",
        "**a. Learning Rate = 0.1**  \n",
        "- Unstable training, model fails to converge, oscillating loss.  \n",
        "\n",
        "**b. Learning Rate = 0.01**  \n",
        "- Faster convergence than 0.001 but may not reach optimal accuracy.  \n",
        "\n",
        "**c. Learning Rate = 0.001**  \n",
        "- Stable convergence, best balance between speed and accuracy.  \n",
        "\n",
        "**d. Observations**  \n",
        "- Too high a learning rate leads to instability and failure to learn.  \n",
        "- Too low a learning rate slows training and risks getting stuck in local minima.  \n",
        "- A moderate learning rate (0.001) provides a good balance for training efficiency and accuracy."
      ]
    },
    {
      "cell_type": "markdown",
      "metadata": {},
      "source": []
    }
  ],
  "metadata": {
    "accelerator": "GPU",
    "colab": {
      "gpuType": "T4",
      "provenance": []
    },
    "kernelspec": {
      "display_name": "tf",
      "language": "python",
      "name": "python3"
    },
    "language_info": {
      "codemirror_mode": {
        "name": "ipython",
        "version": 3
      },
      "file_extension": ".py",
      "mimetype": "text/x-python",
      "name": "python",
      "nbconvert_exporter": "python",
      "pygments_lexer": "ipython3",
      "version": "3.9.21"
    }
  },
  "nbformat": 4,
  "nbformat_minor": 0
}
