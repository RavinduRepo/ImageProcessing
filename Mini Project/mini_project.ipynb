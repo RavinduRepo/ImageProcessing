{
 "cells": [
  {
   "cell_type": "code",
   "execution_count": 1,
   "metadata": {},
   "outputs": [
    {
     "name": "stderr",
     "output_type": "stream",
     "text": [
      "<>:7: SyntaxWarning: invalid escape sequence '\\M'\n",
      "<>:7: SyntaxWarning: invalid escape sequence '\\M'\n",
      "C:\\Users\\ravin\\AppData\\Local\\Temp\\ipykernel_1320\\1986300716.py:7: SyntaxWarning: invalid escape sequence '\\M'\n",
      "  image = cv2.imread('E:\\My Projects\\python\\Image Processing\\Mini Project\\pexels-guiirossi-1668928.jpg', cv2.IMREAD_GRAYSCALE)\n",
      "C:\\Users\\ravin\\AppData\\Local\\Temp\\ipykernel_1320\\1986300716.py:7: SyntaxWarning: invalid escape sequence '\\M'\n",
      "  image = cv2.imread('E:\\My Projects\\python\\Image Processing\\Mini Project\\pexels-guiirossi-1668928.jpg', cv2.IMREAD_GRAYSCALE)\n"
     ]
    },
    {
     "ename": "ModuleNotFoundError",
     "evalue": "No module named 'skimage'",
     "output_type": "error",
     "traceback": [
      "\u001b[1;31m---------------------------------------------------------------------------\u001b[0m",
      "\u001b[1;31mModuleNotFoundError\u001b[0m                       Traceback (most recent call last)",
      "Cell \u001b[1;32mIn[1], line 3\u001b[0m\n\u001b[0;32m      1\u001b[0m \u001b[38;5;28;01mimport\u001b[39;00m \u001b[38;5;21;01mcv2\u001b[39;00m\n\u001b[0;32m      2\u001b[0m \u001b[38;5;28;01mimport\u001b[39;00m \u001b[38;5;21;01mnumpy\u001b[39;00m \u001b[38;5;28;01mas\u001b[39;00m \u001b[38;5;21;01mnp\u001b[39;00m\n\u001b[1;32m----> 3\u001b[0m \u001b[38;5;28;01mfrom\u001b[39;00m \u001b[38;5;21;01mskimage\u001b[39;00m \u001b[38;5;28;01mimport\u001b[39;00m restoration\n\u001b[0;32m      4\u001b[0m \u001b[38;5;28;01mimport\u001b[39;00m \u001b[38;5;21;01mmatplotlib\u001b[39;00m\u001b[38;5;21;01m.\u001b[39;00m\u001b[38;5;21;01mpyplot\u001b[39;00m \u001b[38;5;28;01mas\u001b[39;00m \u001b[38;5;21;01mplt\u001b[39;00m\n\u001b[0;32m      6\u001b[0m \u001b[38;5;66;03m# Load the image\u001b[39;00m\n",
      "\u001b[1;31mModuleNotFoundError\u001b[0m: No module named 'skimage'"
     ]
    }
   ],
   "source": [
    "import cv2\n",
    "import numpy as np\n",
    "from skimage import restoration\n",
    "import matplotlib.pyplot as plt\n",
    "\n",
    "# Load the image\n",
    "image = cv2.imread('E:\\My Projects\\python\\Image Processing\\Mini Project\\pexels-guiirossi-1668928.jpg', cv2.IMREAD_GRAYSCALE)\n",
    "\n",
    "# Method 1: Using Wiener Filter\n",
    "def wiener_filter(image, kernel, K):\n",
    "    kernel /= np.sum(kernel)\n",
    "    dummy = np.copy(image)\n",
    "    dummy = np.fft.fft2(dummy)\n",
    "    kernel = np.fft.fft2(kernel, s=image.shape)\n",
    "    kernel = np.conj(kernel) / (np.abs(kernel) ** 2 + K)\n",
    "    dummy = dummy * kernel\n",
    "    dummy = np.abs(np.fft.ifft2(dummy))\n",
    "    return dummy\n",
    "\n",
    "# Method 2: Using Richardson-Lucy Deconvolution\n",
    "def richardson_lucy(image, psf, iterations):\n",
    "    deconvolved = restoration.richardson_lucy(image, psf, iterations=iterations)\n",
    "    return deconvolved\n",
    "\n",
    "# Define the kernel (Point Spread Function)\n",
    "psf = np.ones((5, 5)) / 25\n",
    "\n",
    "# Apply Wiener Filter\n",
    "wiener_result = wiener_filter(image, psf, K=0.01)\n",
    "\n",
    "# Apply Richardson-Lucy Deconvolution\n",
    "rl_result = richardson_lucy(image, psf, iterations=30)\n",
    "\n",
    "# Display the results\n",
    "plt.figure(figsize=(12, 6))\n",
    "\n",
    "plt.subplot(1, 3, 1)\n",
    "plt.title('Original Blurred Image')\n",
    "plt.imshow(image, cmap='gray')\n",
    "\n",
    "plt.subplot(1, 3, 2)\n",
    "plt.title('Wiener Filter Result')\n",
    "plt.imshow(wiener_result, cmap='gray')\n",
    "\n",
    "plt.subplot(1, 3, 3)\n",
    "plt.title('Richardson-Lucy Result')\n",
    "plt.imshow(rl_result, cmap='gray')\n",
    "\n",
    "plt.show()"
   ]
  }
 ],
 "metadata": {
  "kernelspec": {
   "display_name": "Python 3",
   "language": "python",
   "name": "python3"
  },
  "language_info": {
   "codemirror_mode": {
    "name": "ipython",
    "version": 3
   },
   "file_extension": ".py",
   "mimetype": "text/x-python",
   "name": "python",
   "nbconvert_exporter": "python",
   "pygments_lexer": "ipython3",
   "version": "3.12.6"
  }
 },
 "nbformat": 4,
 "nbformat_minor": 2
}
